{
 "cells": [
  {
   "cell_type": "code",
   "execution_count": 1,
   "id": "6bbfd0d4",
   "metadata": {},
   "outputs": [],
   "source": [
    "#Import Dependencies\n",
    "from selenium import webdriver\n",
    "from selenium.webdriver.chrome.options import Options\n",
    "from selenium.webdriver.chrome.service import Service\n",
    "from webdriver_manager.chrome import ChromeDriverManager\n",
    "from selenium.webdriver.common.by import By\n",
    "import os\n",
    "from selenium.webdriver.common.keys import Keys\n",
    "import time\n",
    "from bs4 import BeautifulSoup\n",
    "import re\n",
    "import pandas as pd\n",
    "import requests"
   ]
  },
  {
   "cell_type": "code",
   "execution_count": 2,
   "id": "83b3c128",
   "metadata": {},
   "outputs": [],
   "source": [
    "#Configure Chromedriver\n",
    "chrome_install = ChromeDriverManager().install()\n",
    "\n",
    "folder = os.path.dirname(chrome_install)\n",
    "chromedriver_path = os.path.join(folder, \"chromedriver.exe\")\n",
    "\n"
   ]
  },
  {
   "cell_type": "code",
   "execution_count": 3,
   "id": "4d70c910",
   "metadata": {},
   "outputs": [],
   "source": [
    "# Initialize Chrome WebDriver\n",
    "browser = webdriver.Chrome(\n",
    "    service = Service(chromedriver_path),\n",
    ")"
   ]
  },
  {
   "cell_type": "code",
   "execution_count": 4,
   "id": "6adeeb0d",
   "metadata": {},
   "outputs": [],
   "source": [
    "#Setup search parameters\n",
    "city = \"toronto\"\n",
    "product = \"Iphone 13\"\n",
    "min_price = 300\n",
    "max_price = 600\n",
    "days_listed = 1"
   ]
  },
  {
   "cell_type": "code",
   "execution_count": 5,
   "id": "b2cc24a0",
   "metadata": {},
   "outputs": [],
   "source": [
    "# Set up base URL\n",
    "url = f'https://www.facebook.com/marketplace/{city}/search?query={product}&minPrice={min_price}&maxPrice={max_price}&daysSinceListed={days_listed}&exact=false'\n",
    "# Visit the website\n",
    "browser.get(url)"
   ]
  },
  {
   "cell_type": "code",
   "execution_count": 6,
   "id": "ec06fa8e",
   "metadata": {},
   "outputs": [
    {
     "name": "stdout",
     "output_type": "stream",
     "text": [
      "Decline optional cookies button clicked.\n"
     ]
    }
   ],
   "source": [
    "# Locate the button with aria-label=\"Decline optional cookies\" (Europe)\n",
    "try:\n",
    "    decline_button = browser.find_element(By.XPATH, '//div[@aria-label=\"Decline optional cookies\" and @role=\"button\"]')\n",
    "    decline_button.click()\n",
    "    print(\"Decline optional cookies button clicked.\")\n",
    "except Exception as e:\n",
    "    print(f\"Could not find or click the optional cookies button: {e}\")\n",
    "    pass"
   ]
  },
  {
   "cell_type": "code",
   "execution_count": 11,
   "id": "ee24be02",
   "metadata": {},
   "outputs": [
    {
     "name": "stdout",
     "output_type": "stream",
     "text": [
      "Close button clicked.\n"
     ]
    }
   ],
   "source": [
    "# Locate the button for the login pop-up with aria-label=\"Close\"\n",
    "try:\n",
    "    decline_button = browser.find_element(By.XPATH, '//div[@aria-label=\"Close\" and @role=\"button\"]')\n",
    "    decline_button.click()\n",
    "    print(\"Close button clicked.\")\n",
    "except Exception as e:\n",
    "    print(f\"Could not find or click the close button: {e}\")\n",
    "    pass"
   ]
  },
  {
   "cell_type": "code",
   "execution_count": 12,
   "id": "c3273636",
   "metadata": {},
   "outputs": [
    {
     "name": "stdout",
     "output_type": "stream",
     "text": [
      "scrolled\n",
      "scrolled\n",
      "scrolled\n",
      "scrolled\n",
      "scrolled\n",
      "scrolled\n"
     ]
    }
   ],
   "source": [
    "#Scroll down to load all results\n",
    "try:\n",
    "    # Get the initial scroll position\n",
    "    last_height = browser.execute_script(\"return document.body.scrollHeight\")\n",
    "\n",
    "    while True:\n",
    "        # Scroll down to the bottom of the page using JavaScript\n",
    "        browser.execute_script(\"window.scrollTo(0, document.body.scrollHeight);\")\n",
    "        time.sleep(4)  # Adjust sleep time as needed\n",
    "\n",
    "        # Get the new scroll position\n",
    "        new_height = browser.execute_script(\"return document.body.scrollHeight\")\n",
    "\n",
    "        # Check if we've reached the bottom\n",
    "        if new_height == last_height:\n",
    "            break\n",
    "\n",
    "        # Update the scroll position\n",
    "        last_height = new_height\n",
    "\n",
    "        print(\"scrolled\")\n",
    "\n",
    "except Exception as e:\n",
    "    print(f\"An error occurred: {e}\")"
   ]
  },
  {
   "cell_type": "code",
   "execution_count": null,
   "id": "c92e5149",
   "metadata": {},
   "outputs": [],
   "source": [
    "# Retrieve the HTML\n",
    "html = browser.page_source\n",
    "\n",
    "# Use BeautifulSoup to parse the HTML\n",
    "soup = BeautifulSoup(html, 'html.parser')\n",
    "\n",
    "#Close the browser\n",
    "browser.close()"
   ]
  },
  {
   "cell_type": "code",
   "execution_count": null,
   "id": "2d16e053",
   "metadata": {},
   "outputs": [],
   "source": [
    "# Find all link elements\n",
    "links = soup.find_all('a')\n",
    "\n",
    "# Only keep items where the text matches your search terms and desired location\n",
    "iphone_links = [link for link in links if product.lower() in link.text.lower() and city.lower() in link.text.lower()]\n",
    "\n",
    "# Create empty list to store product data\n",
    "iphone_data = []\n",
    "\n",
    "# Store the items url and text into a list of dictionaries\n",
    "for iphone_link in iphone_links:\n",
    "    url = iphone_link.get('href') \n",
    "    text = '\\n'.join(iphone_link.stripped_strings)  # Use stripped_strings to preserve newlines\n",
    "    iphone_data.append({'text': text, 'url': url, })"
   ]
  },
  {
   "cell_type": "code",
   "execution_count": null,
   "id": "eb862775",
   "metadata": {},
   "outputs": [],
   "source": [
    "# Create an empty list to store product data\n",
    "extracted_data = []\n",
    "\n",
    "for item in iphone_data:\n",
    "    lines = item['text'].split('\\n')\n",
    "\n",
    "    # Regular expression to find numeric values\n",
    "    numeric_pattern = re.compile(r'\\d[\\d,.]*')\n",
    "\n",
    "    # Extracting prices\n",
    "    # Iterate through lines to find the first line with numbers\n",
    "    for line in lines:\n",
    "        match = numeric_pattern.search(line)\n",
    "        if match:\n",
    "            # Extract the first numeric value found\n",
    "            price_str = match.group()\n",
    "            # Convert price to float (handle commas)\n",
    "            price = float(price_str.replace(',', ''))\n",
    "            break\n",
    "\n",
    "    if price:\n",
    "        print(f\"Price extracted: {price}\")\n",
    "    else:\n",
    "        print(\"Price not found\")\n",
    "    # Extracting title\n",
    "    title = lines[-2]\n",
    "\n",
    "    # Extracting location (last line)\n",
    "    location = lines[-1]\n",
    "    \n",
    "    # Add extracted data to a list of dictionaries\n",
    "    extracted_data.append({\n",
    "        'title': title,\n",
    "        'price': price,\n",
    "        'location': location,\n",
    "        'url': re.sub(r'\\?.*', '', item['url'])\n",
    "    })"
   ]
  },
  {
   "cell_type": "code",
   "execution_count": null,
   "id": "1a760639",
   "metadata": {},
   "outputs": [],
   "source": [
    "# Convert extracted data into a Pandas Dataframe\n",
    "items_df = pd.DataFrame(extracted_data)\n",
    "\n",
    "# Sort the DataFrame by the \"price\" column in ascending order\n",
    "sorted_df = items_df.sort_values(by='price')\n",
    "\n",
    "# Get the 5 cheapest entries\n",
    "cheapest_10 = sorted_df.head(10)"
   ]
  },
  {
   "cell_type": "code",
   "execution_count": null,
   "id": "089e88cd",
   "metadata": {},
   "outputs": [],
   "source": [
    "# Create an empty message\n",
    "message = \"\"\n",
    "# Iterate over each row in the DataFrame containing the 10 cheapest items\n",
    "for index, row in cheapest_10.iterrows():\n",
    "    # Append the title, price, and URL of each item to the message string\n",
    "    message += f\"Title: {row['title']}\\nPrice: ${row['price']}\\nURL: {row['url']}\\n\\n\"\n",
    "\n",
    "# URL of the Discord channel where the message will be posted\n",
    "discord_url = ''\n",
    "\n",
    "# Payload containing the message to be sent\n",
    "payload = {\"content\": message}\n",
    "\n",
    "# Headers including the authorization token for the Discord API\n",
    "headers = {\"Authorization\" : \"\"}\n",
    "\n",
    "# Send a POST request to the Discord API with the payload and headers\n",
    "response = requests.post(discord_url, payload, headers=headers)"
   ]
  }
 ],
 "metadata": {
  "kernelspec": {
   "display_name": "Python 3 (ipykernel)",
   "language": "python",
   "name": "python3"
  },
  "language_info": {
   "codemirror_mode": {
    "name": "ipython",
    "version": 3
   },
   "file_extension": ".py",
   "mimetype": "text/x-python",
   "name": "python",
   "nbconvert_exporter": "python",
   "pygments_lexer": "ipython3",
   "version": "3.10.9"
  }
 },
 "nbformat": 4,
 "nbformat_minor": 5
}
